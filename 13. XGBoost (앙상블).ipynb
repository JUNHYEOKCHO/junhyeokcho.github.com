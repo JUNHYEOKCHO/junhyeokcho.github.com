{
 "cells": [
  {
   "cell_type": "code",
   "execution_count": 1,
   "metadata": {},
   "outputs": [
    {
     "name": "stdout",
     "output_type": "stream",
     "text": [
      "0.90\n"
     ]
    }
   ],
   "source": [
    "import xgboost\n",
    "\n",
    "print(xgboost.__version__)"
   ]
  },
  {
   "cell_type": "code",
   "execution_count": 2,
   "metadata": {},
   "outputs": [
    {
     "data": {
      "text/html": [
       "<div>\n",
       "<style scoped>\n",
       "    .dataframe tbody tr th:only-of-type {\n",
       "        vertical-align: middle;\n",
       "    }\n",
       "\n",
       "    .dataframe tbody tr th {\n",
       "        vertical-align: top;\n",
       "    }\n",
       "\n",
       "    .dataframe thead th {\n",
       "        text-align: right;\n",
       "    }\n",
       "</style>\n",
       "<table border=\"1\" class=\"dataframe\">\n",
       "  <thead>\n",
       "    <tr style=\"text-align: right;\">\n",
       "      <th></th>\n",
       "      <th>mean radius</th>\n",
       "      <th>mean texture</th>\n",
       "      <th>mean perimeter</th>\n",
       "      <th>mean area</th>\n",
       "      <th>mean smoothness</th>\n",
       "      <th>mean compactness</th>\n",
       "      <th>mean concavity</th>\n",
       "      <th>mean concave points</th>\n",
       "      <th>mean symmetry</th>\n",
       "      <th>mean fractal dimension</th>\n",
       "      <th>...</th>\n",
       "      <th>worst texture</th>\n",
       "      <th>worst perimeter</th>\n",
       "      <th>worst area</th>\n",
       "      <th>worst smoothness</th>\n",
       "      <th>worst compactness</th>\n",
       "      <th>worst concavity</th>\n",
       "      <th>worst concave points</th>\n",
       "      <th>worst symmetry</th>\n",
       "      <th>worst fractal dimension</th>\n",
       "      <th>target</th>\n",
       "    </tr>\n",
       "  </thead>\n",
       "  <tbody>\n",
       "    <tr>\n",
       "      <th>0</th>\n",
       "      <td>17.99</td>\n",
       "      <td>10.38</td>\n",
       "      <td>122.8</td>\n",
       "      <td>1001.0</td>\n",
       "      <td>0.11840</td>\n",
       "      <td>0.27760</td>\n",
       "      <td>0.3001</td>\n",
       "      <td>0.14710</td>\n",
       "      <td>0.2419</td>\n",
       "      <td>0.07871</td>\n",
       "      <td>...</td>\n",
       "      <td>17.33</td>\n",
       "      <td>184.6</td>\n",
       "      <td>2019.0</td>\n",
       "      <td>0.1622</td>\n",
       "      <td>0.6656</td>\n",
       "      <td>0.7119</td>\n",
       "      <td>0.2654</td>\n",
       "      <td>0.4601</td>\n",
       "      <td>0.11890</td>\n",
       "      <td>0</td>\n",
       "    </tr>\n",
       "    <tr>\n",
       "      <th>1</th>\n",
       "      <td>20.57</td>\n",
       "      <td>17.77</td>\n",
       "      <td>132.9</td>\n",
       "      <td>1326.0</td>\n",
       "      <td>0.08474</td>\n",
       "      <td>0.07864</td>\n",
       "      <td>0.0869</td>\n",
       "      <td>0.07017</td>\n",
       "      <td>0.1812</td>\n",
       "      <td>0.05667</td>\n",
       "      <td>...</td>\n",
       "      <td>23.41</td>\n",
       "      <td>158.8</td>\n",
       "      <td>1956.0</td>\n",
       "      <td>0.1238</td>\n",
       "      <td>0.1866</td>\n",
       "      <td>0.2416</td>\n",
       "      <td>0.1860</td>\n",
       "      <td>0.2750</td>\n",
       "      <td>0.08902</td>\n",
       "      <td>0</td>\n",
       "    </tr>\n",
       "    <tr>\n",
       "      <th>2</th>\n",
       "      <td>19.69</td>\n",
       "      <td>21.25</td>\n",
       "      <td>130.0</td>\n",
       "      <td>1203.0</td>\n",
       "      <td>0.10960</td>\n",
       "      <td>0.15990</td>\n",
       "      <td>0.1974</td>\n",
       "      <td>0.12790</td>\n",
       "      <td>0.2069</td>\n",
       "      <td>0.05999</td>\n",
       "      <td>...</td>\n",
       "      <td>25.53</td>\n",
       "      <td>152.5</td>\n",
       "      <td>1709.0</td>\n",
       "      <td>0.1444</td>\n",
       "      <td>0.4245</td>\n",
       "      <td>0.4504</td>\n",
       "      <td>0.2430</td>\n",
       "      <td>0.3613</td>\n",
       "      <td>0.08758</td>\n",
       "      <td>0</td>\n",
       "    </tr>\n",
       "  </tbody>\n",
       "</table>\n",
       "<p>3 rows × 31 columns</p>\n",
       "</div>"
      ],
      "text/plain": [
       "   mean radius  mean texture  mean perimeter  mean area  mean smoothness  \\\n",
       "0        17.99         10.38           122.8     1001.0          0.11840   \n",
       "1        20.57         17.77           132.9     1326.0          0.08474   \n",
       "2        19.69         21.25           130.0     1203.0          0.10960   \n",
       "\n",
       "   mean compactness  mean concavity  mean concave points  mean symmetry  \\\n",
       "0           0.27760          0.3001              0.14710         0.2419   \n",
       "1           0.07864          0.0869              0.07017         0.1812   \n",
       "2           0.15990          0.1974              0.12790         0.2069   \n",
       "\n",
       "   mean fractal dimension  ...  worst texture  worst perimeter  worst area  \\\n",
       "0                 0.07871  ...          17.33            184.6      2019.0   \n",
       "1                 0.05667  ...          23.41            158.8      1956.0   \n",
       "2                 0.05999  ...          25.53            152.5      1709.0   \n",
       "\n",
       "   worst smoothness  worst compactness  worst concavity  worst concave points  \\\n",
       "0            0.1622             0.6656           0.7119                0.2654   \n",
       "1            0.1238             0.1866           0.2416                0.1860   \n",
       "2            0.1444             0.4245           0.4504                0.2430   \n",
       "\n",
       "   worst symmetry  worst fractal dimension  target  \n",
       "0          0.4601                  0.11890       0  \n",
       "1          0.2750                  0.08902       0  \n",
       "2          0.3613                  0.08758       0  \n",
       "\n",
       "[3 rows x 31 columns]"
      ]
     },
     "execution_count": 2,
     "metadata": {},
     "output_type": "execute_result"
    }
   ],
   "source": [
    "import xgboost as xgb\n",
    "from xgboost import plot_importance\n",
    "import pandas as pd\n",
    "import numpy as np\n",
    "from sklearn.datasets import load_breast_cancer\n",
    "from sklearn.model_selection import train_test_split\n",
    "import warnings\n",
    "warnings.filterwarnings('ignore')\n",
    "\n",
    "dataset = load_breast_cancer()\n",
    "X_features = dataset.data\n",
    "y_label = dataset.target\n",
    "\n",
    "cancer_df = pd.DataFrame(data=X_features, columns = dataset.feature_names)\n",
    "cancer_df['target'] = y_label\n",
    "cancer_df.head(3)"
   ]
  },
  {
   "cell_type": "code",
   "execution_count": 3,
   "metadata": {},
   "outputs": [
    {
     "data": {
      "text/plain": [
       "(569, 31)"
      ]
     },
     "execution_count": 3,
     "metadata": {},
     "output_type": "execute_result"
    }
   ],
   "source": [
    "cancer_df.shape"
   ]
  },
  {
   "cell_type": "code",
   "execution_count": 4,
   "metadata": {},
   "outputs": [
    {
     "name": "stdout",
     "output_type": "stream",
     "text": [
      "['malignant' 'benign']\n",
      "1    357\n",
      "0    212\n",
      "Name: target, dtype: int64\n"
     ]
    }
   ],
   "source": [
    "print(dataset.target_names)\n",
    "print(cancer_df['target'].value_counts())"
   ]
  },
  {
   "cell_type": "code",
   "execution_count": 5,
   "metadata": {},
   "outputs": [
    {
     "name": "stdout",
     "output_type": "stream",
     "text": [
      "(455, 30) (114, 30)\n"
     ]
    }
   ],
   "source": [
    "# 전체 데이터 중 80%는 학습용 데이터, 20%는 테스트용 데이터 추출\n",
    "X_train, X_test, y_train, y_test = train_test_split(X_features, y_label,\n",
    "                                                   test_size=0.2, random_state=37)\n",
    "print(X_train.shape, X_test.shape)"
   ]
  },
  {
   "cell_type": "code",
   "execution_count": 6,
   "metadata": {},
   "outputs": [],
   "source": [
    "dtrain = xgb.DMatrix(data = X_train, label = y_train)\n",
    "dtest = xgb.DMatrix(data = X_test, label = y_test)"
   ]
  },
  {
   "cell_type": "code",
   "execution_count": 7,
   "metadata": {},
   "outputs": [],
   "source": [
    "params = {\"max_depth\":3,\n",
    "         'eta' : 0.1,\n",
    "         'objective':'binary:logistic',\n",
    "         'eval_metric':'logloss',\n",
    "         'early_stoppings':100}\n",
    "\n",
    "num_rounds = 400"
   ]
  },
  {
   "cell_type": "code",
   "execution_count": 8,
   "metadata": {},
   "outputs": [
    {
     "name": "stdout",
     "output_type": "stream",
     "text": [
      "[0]\ttrain-logloss:0.607514\teval-logloss:0.619621\n",
      "Multiple eval metrics have been passed: 'eval-logloss' will be used for early stopping.\n",
      "\n",
      "Will train until eval-logloss hasn't improved in 100 rounds.\n",
      "[1]\ttrain-logloss:0.537227\teval-logloss:0.559986\n",
      "[2]\ttrain-logloss:0.477293\teval-logloss:0.510846\n",
      "[3]\ttrain-logloss:0.42723\teval-logloss:0.468197\n",
      "[4]\ttrain-logloss:0.385206\teval-logloss:0.430018\n",
      "[5]\ttrain-logloss:0.346184\teval-logloss:0.398063\n",
      "[6]\ttrain-logloss:0.312762\teval-logloss:0.371457\n",
      "[7]\ttrain-logloss:0.282948\teval-logloss:0.348233\n",
      "[8]\ttrain-logloss:0.25705\teval-logloss:0.328786\n",
      "[9]\ttrain-logloss:0.233721\teval-logloss:0.311519\n",
      "[10]\ttrain-logloss:0.213004\teval-logloss:0.296916\n",
      "[11]\ttrain-logloss:0.194585\teval-logloss:0.283559\n",
      "[12]\ttrain-logloss:0.178538\teval-logloss:0.270554\n",
      "[13]\ttrain-logloss:0.163755\teval-logloss:0.261289\n",
      "[14]\ttrain-logloss:0.150827\teval-logloss:0.252446\n",
      "[15]\ttrain-logloss:0.139397\teval-logloss:0.243831\n",
      "[16]\ttrain-logloss:0.128555\teval-logloss:0.236091\n",
      "[17]\ttrain-logloss:0.118492\teval-logloss:0.228906\n",
      "[18]\ttrain-logloss:0.10965\teval-logloss:0.222433\n",
      "[19]\ttrain-logloss:0.101537\teval-logloss:0.218535\n",
      "[20]\ttrain-logloss:0.094491\teval-logloss:0.215047\n",
      "[21]\ttrain-logloss:0.087855\teval-logloss:0.21002\n",
      "[22]\ttrain-logloss:0.081908\teval-logloss:0.206536\n",
      "[23]\ttrain-logloss:0.076555\teval-logloss:0.203052\n",
      "[24]\ttrain-logloss:0.07206\teval-logloss:0.199929\n",
      "[25]\ttrain-logloss:0.067472\teval-logloss:0.197243\n",
      "[26]\ttrain-logloss:0.063249\teval-logloss:0.194147\n",
      "[27]\ttrain-logloss:0.059541\teval-logloss:0.191598\n",
      "[28]\ttrain-logloss:0.056155\teval-logloss:0.190485\n",
      "[29]\ttrain-logloss:0.052756\teval-logloss:0.190892\n",
      "[30]\ttrain-logloss:0.050044\teval-logloss:0.190156\n",
      "[31]\ttrain-logloss:0.047263\teval-logloss:0.18864\n",
      "[32]\ttrain-logloss:0.044666\teval-logloss:0.189569\n",
      "[33]\ttrain-logloss:0.042454\teval-logloss:0.189076\n",
      "[34]\ttrain-logloss:0.039997\teval-logloss:0.189681\n",
      "[35]\ttrain-logloss:0.037994\teval-logloss:0.189924\n",
      "[36]\ttrain-logloss:0.036081\teval-logloss:0.190948\n",
      "[37]\ttrain-logloss:0.034618\teval-logloss:0.190231\n",
      "[38]\ttrain-logloss:0.033023\teval-logloss:0.190203\n",
      "[39]\ttrain-logloss:0.031708\teval-logloss:0.189118\n",
      "[40]\ttrain-logloss:0.030556\teval-logloss:0.188944\n",
      "[41]\ttrain-logloss:0.029265\teval-logloss:0.190282\n",
      "[42]\ttrain-logloss:0.028063\teval-logloss:0.192177\n",
      "[43]\ttrain-logloss:0.026915\teval-logloss:0.192623\n",
      "[44]\ttrain-logloss:0.025967\teval-logloss:0.193069\n",
      "[45]\ttrain-logloss:0.025022\teval-logloss:0.190858\n",
      "[46]\ttrain-logloss:0.024283\teval-logloss:0.190813\n",
      "[47]\ttrain-logloss:0.023385\teval-logloss:0.191352\n",
      "[48]\ttrain-logloss:0.022584\teval-logloss:0.190914\n",
      "[49]\ttrain-logloss:0.021909\teval-logloss:0.190667\n",
      "[50]\ttrain-logloss:0.021177\teval-logloss:0.191296\n",
      "[51]\ttrain-logloss:0.020418\teval-logloss:0.191388\n",
      "[52]\ttrain-logloss:0.019839\teval-logloss:0.190551\n",
      "[53]\ttrain-logloss:0.019248\teval-logloss:0.190354\n",
      "[54]\ttrain-logloss:0.018726\teval-logloss:0.191789\n",
      "[55]\ttrain-logloss:0.018228\teval-logloss:0.191607\n",
      "[56]\ttrain-logloss:0.017821\teval-logloss:0.191646\n",
      "[57]\ttrain-logloss:0.017312\teval-logloss:0.189435\n",
      "[58]\ttrain-logloss:0.016857\teval-logloss:0.189784\n",
      "[59]\ttrain-logloss:0.016426\teval-logloss:0.189776\n",
      "[60]\ttrain-logloss:0.016026\teval-logloss:0.191204\n",
      "[61]\ttrain-logloss:0.015608\teval-logloss:0.191191\n",
      "[62]\ttrain-logloss:0.015265\teval-logloss:0.191778\n",
      "[63]\ttrain-logloss:0.014984\teval-logloss:0.191577\n",
      "[64]\ttrain-logloss:0.014653\teval-logloss:0.192961\n",
      "[65]\ttrain-logloss:0.01429\teval-logloss:0.190903\n",
      "[66]\ttrain-logloss:0.014019\teval-logloss:0.191251\n",
      "[67]\ttrain-logloss:0.013778\teval-logloss:0.192114\n",
      "[68]\ttrain-logloss:0.013532\teval-logloss:0.192246\n",
      "[69]\ttrain-logloss:0.013262\teval-logloss:0.193589\n",
      "[70]\ttrain-logloss:0.012997\teval-logloss:0.191564\n",
      "[71]\ttrain-logloss:0.012795\teval-logloss:0.192181\n",
      "[72]\ttrain-logloss:0.012637\teval-logloss:0.192167\n",
      "[73]\ttrain-logloss:0.01245\teval-logloss:0.192492\n",
      "[74]\ttrain-logloss:0.012306\teval-logloss:0.19296\n",
      "[75]\ttrain-logloss:0.012119\teval-logloss:0.194271\n",
      "[76]\ttrain-logloss:0.011967\teval-logloss:0.194601\n",
      "[77]\ttrain-logloss:0.011747\teval-logloss:0.192755\n",
      "[78]\ttrain-logloss:0.011588\teval-logloss:0.191656\n",
      "[79]\ttrain-logloss:0.011432\teval-logloss:0.190892\n",
      "[80]\ttrain-logloss:0.011285\teval-logloss:0.191237\n",
      "[81]\ttrain-logloss:0.011169\teval-logloss:0.191329\n",
      "[82]\ttrain-logloss:0.011015\teval-logloss:0.19252\n",
      "[83]\ttrain-logloss:0.010889\teval-logloss:0.192976\n",
      "[84]\ttrain-logloss:0.010765\teval-logloss:0.19312\n",
      "[85]\ttrain-logloss:0.010658\teval-logloss:0.193583\n",
      "[86]\ttrain-logloss:0.01053\teval-logloss:0.194581\n",
      "[87]\ttrain-logloss:0.010409\teval-logloss:0.194164\n",
      "[88]\ttrain-logloss:0.010315\teval-logloss:0.193949\n",
      "[89]\ttrain-logloss:0.010217\teval-logloss:0.194383\n",
      "[90]\ttrain-logloss:0.010101\teval-logloss:0.195008\n",
      "[91]\ttrain-logloss:0.010012\teval-logloss:0.195069\n",
      "[92]\ttrain-logloss:0.009905\teval-logloss:0.194681\n",
      "[93]\ttrain-logloss:0.009821\teval-logloss:0.194486\n",
      "[94]\ttrain-logloss:0.00971\teval-logloss:0.194597\n",
      "[95]\ttrain-logloss:0.009617\teval-logloss:0.19451\n",
      "[96]\ttrain-logloss:0.009534\teval-logloss:0.194922\n",
      "[97]\ttrain-logloss:0.009466\teval-logloss:0.194547\n",
      "[98]\ttrain-logloss:0.009378\teval-logloss:0.193949\n",
      "[99]\ttrain-logloss:0.00929\teval-logloss:0.193628\n",
      "[100]\ttrain-logloss:0.009193\teval-logloss:0.193755\n",
      "[101]\ttrain-logloss:0.009147\teval-logloss:0.194025\n",
      "[102]\ttrain-logloss:0.009072\teval-logloss:0.193909\n",
      "[103]\ttrain-logloss:0.008996\teval-logloss:0.194207\n",
      "[104]\ttrain-logloss:0.008918\teval-logloss:0.194037\n",
      "[105]\ttrain-logloss:0.008846\teval-logloss:0.193704\n",
      "[106]\ttrain-logloss:0.008806\teval-logloss:0.193807\n",
      "[107]\ttrain-logloss:0.008718\teval-logloss:0.193917\n",
      "[108]\ttrain-logloss:0.008655\teval-logloss:0.192655\n",
      "[109]\ttrain-logloss:0.008591\teval-logloss:0.192796\n",
      "[110]\ttrain-logloss:0.008525\teval-logloss:0.192406\n",
      "[111]\ttrain-logloss:0.008489\teval-logloss:0.19273\n",
      "[112]\ttrain-logloss:0.008408\teval-logloss:0.193588\n",
      "[113]\ttrain-logloss:0.008347\teval-logloss:0.19264\n",
      "[114]\ttrain-logloss:0.008292\teval-logloss:0.19279\n",
      "[115]\ttrain-logloss:0.008239\teval-logloss:0.192417\n",
      "[116]\ttrain-logloss:0.00817\teval-logloss:0.192809\n",
      "[117]\ttrain-logloss:0.008091\teval-logloss:0.192868\n",
      "[118]\ttrain-logloss:0.008015\teval-logloss:0.192806\n",
      "[119]\ttrain-logloss:0.007964\teval-logloss:0.191936\n",
      "[120]\ttrain-logloss:0.007887\teval-logloss:0.19231\n",
      "[121]\ttrain-logloss:0.007839\teval-logloss:0.191476\n",
      "[122]\ttrain-logloss:0.007808\teval-logloss:0.19161\n",
      "[123]\ttrain-logloss:0.007747\teval-logloss:0.1917\n",
      "[124]\ttrain-logloss:0.0077\teval-logloss:0.191846\n",
      "[125]\ttrain-logloss:0.007633\teval-logloss:0.191798\n",
      "[126]\ttrain-logloss:0.007588\teval-logloss:0.190987\n",
      "[127]\ttrain-logloss:0.007536\teval-logloss:0.191303\n",
      "[128]\ttrain-logloss:0.007507\teval-logloss:0.191171\n",
      "[129]\ttrain-logloss:0.00748\teval-logloss:0.191459\n",
      "[130]\ttrain-logloss:0.007446\teval-logloss:0.191074\n",
      "[131]\ttrain-logloss:0.007408\teval-logloss:0.191246\n",
      "Stopping. Best iteration:\n",
      "[31]\ttrain-logloss:0.047263\teval-logloss:0.18864\n",
      "\n"
     ]
    }
   ],
   "source": [
    "# train 데이터 세트는 'train', evaluation(test) 데이터 세트는 'eval'로 명기합니다.\n",
    "wlist = [(dtrain, 'train'), (dtest, 'eval')]\n",
    "\n",
    "# 하이퍼 파라미터와 early stopping 파라미터를 train() 함수의 파라미터로 전달\n",
    "xgb_model = xgb.train(params = params, dtrain = dtrain, num_boost_round = num_rounds, early_stopping_rounds=100, evals=wlist)"
   ]
  },
  {
   "cell_type": "code",
   "execution_count": 11,
   "metadata": {},
   "outputs": [
    {
     "name": "stdout",
     "output_type": "stream",
     "text": [
      "predict() 수행 결괏값을 10개만 표시, 예측 확률값으로 표시됨\n",
      "[0.734 1.    0.999 0.536 0.996 0.999 0.057 0.999 1.    0.001]\n",
      "예측값 10개만 표시: [1, 1, 1, 1, 1, 1, 0, 1, 1, 0]\n"
     ]
    }
   ],
   "source": [
    "pred_probs = xgb_model.predict(dtest)\n",
    "print('predict() 수행 결괏값을 10개만 표시, 예측 확률값으로 표시됨')\n",
    "print(np.round(pred_probs[:10], 3))\n",
    "\n",
    "#예측 확률이 0.5보다 크면 1, 그렇지 않으면 0으로 예측값 결정해 리스트 객체인 preds에 저장\n",
    "preds = [ 1 if x > 0.5 else 0 for x in pred_probs]\n",
    "print('예측값 10개만 표시:', preds[:10])"
   ]
  },
  {
   "cell_type": "markdown",
   "metadata": {},
   "source": [
    "## get_clf_eval 함수"
   ]
  },
  {
   "cell_type": "code",
   "execution_count": 14,
   "metadata": {},
   "outputs": [],
   "source": [
    "from sklearn.metrics import accuracy_score, precision_score, confusion_matrix\n",
    "from sklearn.metrics import recall_score, f1_score, roc_auc_score\n",
    "\n",
    "def get_clf_eval(y_test, pred = None, pred_proba=None):\n",
    "    confusion = confusion_matrix(y_test, pred)\n",
    "    accuracy = accuracy_score(y_test, pred)\n",
    "    precision = precision_score(y_test, pred)\n",
    "    recall = recall_score(y_test, pred)\n",
    "    f1 = f1_score(y_test, pred)\n",
    "    # ROC-AUC 추가\n",
    "    roc_auc = roc_auc_score(y_test, pred_proba)\n",
    "    print(\"오차행렬\")\n",
    "    print(confusion)\n",
    "    # ROC-AUC print 추가\n",
    "    print(\"정확도: {0:.4f}, 정밀도: {1:.4f}, 재현율: {2:.4f}, F1: {3:.4f}, AUC:{4:.4f}\".format(accuracy, precision, recall, f1, roc_auc))"
   ]
  },
  {
   "cell_type": "code",
   "execution_count": 15,
   "metadata": {},
   "outputs": [
    {
     "name": "stdout",
     "output_type": "stream",
     "text": [
      "오차행렬\n",
      "[[37  3]\n",
      " [ 2 72]]\n",
      "정확도: 0.9561, 정밀도: 0.9600, 재현율: 0.9730, F1: 0.9664, AUC:0.9794\n"
     ]
    }
   ],
   "source": [
    "get_clf_eval(y_test, preds, pred_probs)"
   ]
  },
  {
   "cell_type": "markdown",
   "metadata": {},
   "source": [
    "## feature importance 시각화"
   ]
  },
  {
   "cell_type": "code",
   "execution_count": 19,
   "metadata": {},
   "outputs": [
    {
     "data": {
      "text/plain": [
       "<matplotlib.axes._subplots.AxesSubplot at 0x1e42569ac88>"
      ]
     },
     "execution_count": 19,
     "metadata": {},
     "output_type": "execute_result"
    },
    {
     "data": {
      "image/png": "[encoded data removed]",
      "text/plain": [
       "<Figure size 720x864 with 1 Axes>"
      ]
     },
     "metadata": {
      "needs_background": "light"
     },
     "output_type": "display_data"
    }
   ],
   "source": [
    "from xgboost import plot_importance\n",
    "import matplotlib.pyplot as plt\n",
    "%matplotlib inline\n",
    "\n",
    "fig, ax = plt.subplots(figsize = (10, 12))\n",
    "plot_importance(xgb_model, ax=ax)"
   ]
  },
  {
   "cell_type": "markdown",
   "metadata": {},
   "source": [
    "## sklearn의 xgboost 래퍼 클래스 이용"
   ]
  },
  {
   "cell_type": "code",
   "execution_count": 22,
   "metadata": {},
   "outputs": [],
   "source": [
    "# 사이킷런 래퍼 XGBoost 클래스인 XGBClassifier 임포트\n",
    "from xgboost import XGBClassifier\n",
    "\n",
    "xgb_wrapper = XGBClassifier(n_estimators=400, learning_rate = 0.1, max_depth = 3)\n",
    "xgb_wrapper.fit(X_train, y_train)\n",
    "w_preds = xgb_wrapper.predict(X_test)\n",
    "w_pred_proba = xgb_wrapper.predict_proba(X_test)[:, 1]"
   ]
  },
  {
   "cell_type": "code",
   "execution_count": 23,
   "metadata": {},
   "outputs": [
    {
     "name": "stdout",
     "output_type": "stream",
     "text": [
      "오차행렬\n",
      "[[37  3]\n",
      " [ 4 70]]\n",
      "정확도: 0.9386, 정밀도: 0.9589, 재현율: 0.9459, F1: 0.9524, AUC:0.9791\n"
     ]
    }
   ],
   "source": [
    "# 성능평가\n",
    "get_clf_eval(y_test, w_preds, w_pred_proba)"
   ]
  },
  {
   "cell_type": "code",
   "execution_count": 24,
   "metadata": {},
   "outputs": [
    {
     "name": "stdout",
     "output_type": "stream",
     "text": [
      "[0]\tvalidation_0-logloss:0.619621\n",
      "Will train until validation_0-logloss hasn't improved in 100 rounds.\n",
      "[1]\tvalidation_0-logloss:0.559985\n",
      "[2]\tvalidation_0-logloss:0.510846\n",
      "[3]\tvalidation_0-logloss:0.468197\n",
      "[4]\tvalidation_0-logloss:0.430018\n",
      "[5]\tvalidation_0-logloss:0.398064\n",
      "[6]\tvalidation_0-logloss:0.371457\n",
      "[7]\tvalidation_0-logloss:0.348233\n",
      "[8]\tvalidation_0-logloss:0.328786\n",
      "[9]\tvalidation_0-logloss:0.311519\n",
      "[10]\tvalidation_0-logloss:0.296916\n",
      "[11]\tvalidation_0-logloss:0.283559\n",
      "[12]\tvalidation_0-logloss:0.270554\n",
      "[13]\tvalidation_0-logloss:0.261289\n",
      "[14]\tvalidation_0-logloss:0.252446\n",
      "[15]\tvalidation_0-logloss:0.243831\n",
      "[16]\tvalidation_0-logloss:0.236091\n",
      "[17]\tvalidation_0-logloss:0.228906\n",
      "[18]\tvalidation_0-logloss:0.222433\n",
      "[19]\tvalidation_0-logloss:0.218535\n",
      "[20]\tvalidation_0-logloss:0.215047\n",
      "[21]\tvalidation_0-logloss:0.21002\n",
      "[22]\tvalidation_0-logloss:0.206536\n",
      "[23]\tvalidation_0-logloss:0.203052\n",
      "[24]\tvalidation_0-logloss:0.199929\n",
      "[25]\tvalidation_0-logloss:0.197243\n",
      "[26]\tvalidation_0-logloss:0.194147\n",
      "[27]\tvalidation_0-logloss:0.191598\n",
      "[28]\tvalidation_0-logloss:0.190485\n",
      "[29]\tvalidation_0-logloss:0.190892\n",
      "[30]\tvalidation_0-logloss:0.190156\n",
      "[31]\tvalidation_0-logloss:0.18864\n",
      "[32]\tvalidation_0-logloss:0.189569\n",
      "[33]\tvalidation_0-logloss:0.189076\n",
      "[34]\tvalidation_0-logloss:0.189681\n",
      "[35]\tvalidation_0-logloss:0.189924\n",
      "[36]\tvalidation_0-logloss:0.190948\n",
      "[37]\tvalidation_0-logloss:0.190231\n",
      "[38]\tvalidation_0-logloss:0.190203\n",
      "[39]\tvalidation_0-logloss:0.189118\n",
      "[40]\tvalidation_0-logloss:0.188944\n",
      "[41]\tvalidation_0-logloss:0.190282\n",
      "[42]\tvalidation_0-logloss:0.192177\n",
      "[43]\tvalidation_0-logloss:0.192623\n",
      "[44]\tvalidation_0-logloss:0.193069\n",
      "[45]\tvalidation_0-logloss:0.190859\n",
      "[46]\tvalidation_0-logloss:0.190813\n",
      "[47]\tvalidation_0-logloss:0.191352\n",
      "[48]\tvalidation_0-logloss:0.190914\n",
      "[49]\tvalidation_0-logloss:0.190667\n",
      "[50]\tvalidation_0-logloss:0.191296\n",
      "[51]\tvalidation_0-logloss:0.191388\n",
      "[52]\tvalidation_0-logloss:0.190551\n",
      "[53]\tvalidation_0-logloss:0.190354\n",
      "[54]\tvalidation_0-logloss:0.191789\n",
      "[55]\tvalidation_0-logloss:0.191607\n",
      "[56]\tvalidation_0-logloss:0.191646\n",
      "[57]\tvalidation_0-logloss:0.189435\n",
      "[58]\tvalidation_0-logloss:0.189784\n",
      "[59]\tvalidation_0-logloss:0.189776\n",
      "[60]\tvalidation_0-logloss:0.191204\n",
      "[61]\tvalidation_0-logloss:0.191191\n",
      "[62]\tvalidation_0-logloss:0.191778\n",
      "[63]\tvalidation_0-logloss:0.191577\n",
      "[64]\tvalidation_0-logloss:0.192961\n",
      "[65]\tvalidation_0-logloss:0.190903\n",
      "[66]\tvalidation_0-logloss:0.191251\n",
      "[67]\tvalidation_0-logloss:0.192114\n",
      "[68]\tvalidation_0-logloss:0.192246\n",
      "[69]\tvalidation_0-logloss:0.193589\n",
      "[70]\tvalidation_0-logloss:0.191564\n",
      "[71]\tvalidation_0-logloss:0.192181\n",
      "[72]\tvalidation_0-logloss:0.192167\n",
      "[73]\tvalidation_0-logloss:0.192492\n",
      "[74]\tvalidation_0-logloss:0.19296\n",
      "[75]\tvalidation_0-logloss:0.194271\n",
      "[76]\tvalidation_0-logloss:0.194601\n",
      "[77]\tvalidation_0-logloss:0.192755\n",
      "[78]\tvalidation_0-logloss:0.191656\n",
      "[79]\tvalidation_0-logloss:0.190892\n",
      "[80]\tvalidation_0-logloss:0.191237\n",
      "[81]\tvalidation_0-logloss:0.191329\n",
      "[82]\tvalidation_0-logloss:0.19252\n",
      "[83]\tvalidation_0-logloss:0.192976\n",
      "[84]\tvalidation_0-logloss:0.19312\n",
      "[85]\tvalidation_0-logloss:0.193583\n",
      "[86]\tvalidation_0-logloss:0.194581\n",
      "[87]\tvalidation_0-logloss:0.194164\n",
      "[88]\tvalidation_0-logloss:0.193949\n",
      "[89]\tvalidation_0-logloss:0.194383\n",
      "[90]\tvalidation_0-logloss:0.195008\n",
      "[91]\tvalidation_0-logloss:0.195069\n",
      "[92]\tvalidation_0-logloss:0.194681\n",
      "[93]\tvalidation_0-logloss:0.194486\n",
      "[94]\tvalidation_0-logloss:0.194597\n",
      "[95]\tvalidation_0-logloss:0.19451\n",
      "[96]\tvalidation_0-logloss:0.194922\n",
      "[97]\tvalidation_0-logloss:0.194547\n",
      "[98]\tvalidation_0-logloss:0.193949\n",
      "[99]\tvalidation_0-logloss:0.193628\n",
      "[100]\tvalidation_0-logloss:0.193755\n",
      "[101]\tvalidation_0-logloss:0.194025\n",
      "[102]\tvalidation_0-logloss:0.193909\n",
      "[103]\tvalidation_0-logloss:0.194207\n",
      "[104]\tvalidation_0-logloss:0.194037\n",
      "[105]\tvalidation_0-logloss:0.193704\n",
      "[106]\tvalidation_0-logloss:0.193807\n",
      "[107]\tvalidation_0-logloss:0.193917\n",
      "[108]\tvalidation_0-logloss:0.192655\n",
      "[109]\tvalidation_0-logloss:0.192796\n",
      "[110]\tvalidation_0-logloss:0.192406\n",
      "[111]\tvalidation_0-logloss:0.19273\n",
      "[112]\tvalidation_0-logloss:0.193588\n",
      "[113]\tvalidation_0-logloss:0.19264\n",
      "[114]\tvalidation_0-logloss:0.19279\n",
      "[115]\tvalidation_0-logloss:0.192417\n",
      "[116]\tvalidation_0-logloss:0.192809\n",
      "[117]\tvalidation_0-logloss:0.192868\n",
      "[118]\tvalidation_0-logloss:0.192806\n",
      "[119]\tvalidation_0-logloss:0.191936\n",
      "[120]\tvalidation_0-logloss:0.19231\n",
      "[121]\tvalidation_0-logloss:0.191476\n",
      "[122]\tvalidation_0-logloss:0.19161\n",
      "[123]\tvalidation_0-logloss:0.191699\n",
      "[124]\tvalidation_0-logloss:0.191846\n",
      "[125]\tvalidation_0-logloss:0.191798\n",
      "[126]\tvalidation_0-logloss:0.190987\n",
      "[127]\tvalidation_0-logloss:0.191303\n",
      "[128]\tvalidation_0-logloss:0.191171\n",
      "[129]\tvalidation_0-logloss:0.191459\n",
      "[130]\tvalidation_0-logloss:0.191074\n",
      "[131]\tvalidation_0-logloss:0.191246\n",
      "Stopping. Best iteration:\n",
      "[31]\tvalidation_0-logloss:0.18864\n",
      "\n"
     ]
    }
   ],
   "source": [
    "# 조기중단 구현\n",
    "from xgboost import XGBClassifier\n",
    "\n",
    "xgb_wrapper = XGBClassifier(n_estimators=400, learning_rate=0.1, max_depth = 3)\n",
    "evals = [(X_test, y_test)]\n",
    "\n",
    "xgb_wrapper.fit(X_train, y_train, early_stopping_rounds=100, eval_metric='logloss', eval_set=evals, verbose=True)\n",
    "\n",
    "ws100_preds = xgb_wrapper.predict(X_test)\n",
    "ws100_pred_proba = xgb_wrapper.predict_proba(X_test)[:, 1]"
   ]
  },
  {
   "cell_type": "code",
   "execution_count": 25,
   "metadata": {},
   "outputs": [
    {
     "name": "stdout",
     "output_type": "stream",
     "text": [
      "오차행렬\n",
      "[[37  3]\n",
      " [ 4 70]]\n",
      "정확도: 0.9386, 정밀도: 0.9589, 재현율: 0.9459, F1: 0.9524, AUC:0.9620\n"
     ]
    }
   ],
   "source": [
    "# 성능 평가\n",
    "get_clf_eval(y_test, ws100_preds, ws100_pred_proba)"
   ]
  },
  {
   "cell_type": "code",
   "execution_count": 28,
   "metadata": {},
   "outputs": [
    {
     "name": "stdout",
     "output_type": "stream",
     "text": [
      "[0]\tvalidation_0-logloss:0.619621\n",
      "Will train until validation_0-logloss hasn't improved in 10 rounds.\n",
      "[1]\tvalidation_0-logloss:0.559985\n",
      "[2]\tvalidation_0-logloss:0.510846\n",
      "[3]\tvalidation_0-logloss:0.468197\n",
      "[4]\tvalidation_0-logloss:0.430018\n",
      "[5]\tvalidation_0-logloss:0.398064\n",
      "[6]\tvalidation_0-logloss:0.371457\n",
      "[7]\tvalidation_0-logloss:0.348233\n",
      "[8]\tvalidation_0-logloss:0.328786\n",
      "[9]\tvalidation_0-logloss:0.311519\n",
      "[10]\tvalidation_0-logloss:0.296916\n",
      "[11]\tvalidation_0-logloss:0.283559\n",
      "[12]\tvalidation_0-logloss:0.270554\n",
      "[13]\tvalidation_0-logloss:0.261289\n",
      "[14]\tvalidation_0-logloss:0.252446\n",
      "[15]\tvalidation_0-logloss:0.243831\n",
      "[16]\tvalidation_0-logloss:0.236091\n",
      "[17]\tvalidation_0-logloss:0.228906\n",
      "[18]\tvalidation_0-logloss:0.222433\n",
      "[19]\tvalidation_0-logloss:0.218535\n",
      "[20]\tvalidation_0-logloss:0.215047\n",
      "[21]\tvalidation_0-logloss:0.21002\n",
      "[22]\tvalidation_0-logloss:0.206536\n",
      "[23]\tvalidation_0-logloss:0.203052\n",
      "[24]\tvalidation_0-logloss:0.199929\n",
      "[25]\tvalidation_0-logloss:0.197243\n",
      "[26]\tvalidation_0-logloss:0.194147\n",
      "[27]\tvalidation_0-logloss:0.191598\n",
      "[28]\tvalidation_0-logloss:0.190485\n",
      "[29]\tvalidation_0-logloss:0.190892\n",
      "[30]\tvalidation_0-logloss:0.190156\n",
      "[31]\tvalidation_0-logloss:0.18864\n",
      "[32]\tvalidation_0-logloss:0.189569\n",
      "[33]\tvalidation_0-logloss:0.189076\n",
      "[34]\tvalidation_0-logloss:0.189681\n",
      "[35]\tvalidation_0-logloss:0.189924\n",
      "[36]\tvalidation_0-logloss:0.190948\n",
      "[37]\tvalidation_0-logloss:0.190231\n",
      "[38]\tvalidation_0-logloss:0.190203\n",
      "[39]\tvalidation_0-logloss:0.189118\n",
      "[40]\tvalidation_0-logloss:0.188944\n",
      "[41]\tvalidation_0-logloss:0.190282\n",
      "Stopping. Best iteration:\n",
      "[31]\tvalidation_0-logloss:0.18864\n",
      "\n",
      "오차행렬\n",
      "[[37  3]\n",
      " [ 4 70]]\n",
      "정확도: 0.9386, 정밀도: 0.9589, 재현율: 0.9459, F1: 0.9524, AUC:0.9620\n"
     ]
    }
   ],
   "source": [
    "# early_stopping_rounds를 10으로 설정하고 재 학습.\n",
    "xgb_wrapper.fit(X_train, y_train, early_stopping_rounds = 10, eval_metric='logloss', eval_set = evals, verbose=True)\n",
    "\n",
    "ws100_preds = xgb_wrapper.predict(X_test)\n",
    "ws100_pred_proba = xgb_wrapper.predict_proba(X_test)[:, 1]\n",
    "get_clf_eval(y_test, ws100_preds, ws100_pred_proba)"
   ]
  },
  {
   "cell_type": "code",
   "execution_count": 29,
   "metadata": {},
   "outputs": [
    {
     "data": {
      "text/plain": [
       "<matplotlib.axes._subplots.AxesSubplot at 0x1e4261eaac8>"
      ]
     },
     "execution_count": 29,
     "metadata": {},
     "output_type": "execute_result"
    },
    {
     "data": {
      "image/png": "[encoded data removed]",
      "text/plain": [
       "<Figure size 720x864 with 1 Axes>"
      ]
     },
     "metadata": {
      "needs_background": "light"
     },
     "output_type": "display_data"
    }
   ],
   "source": [
    "from xgboost import plot_importance\n",
    "import matplotlib.pyplot as plt\n",
    "%matplotlib inline\n",
    "\n",
    "fig, ax = plt.subplots(figsize=(10, 12))\n",
    "# 사이킷런 Wrapper 클래스를 입력해도 무방.\n",
    "plot_importance(xgb_wrapper, ax=ax)"
   ]
  },
  {
   "cell_type": "code",
   "execution_count": null,
   "metadata": {},
   "outputs": [],
   "source": []
  }
 ],
 "metadata": {
  "kernelspec": {
   "display_name": "Python 3",
   "language": "python",
   "name": "python3"
  },
  "language_info": {
   "codemirror_mode": {
    "name": "ipython",
    "version": 3
   },
   "file_extension": ".py",
   "mimetype": "text/x-python",
   "name": "python",
   "nbconvert_exporter": "python",
   "pygments_lexer": "ipython3",
   "version": "3.7.6"
  }
 },
 "nbformat": 4,
 "nbformat_minor": 4
}
