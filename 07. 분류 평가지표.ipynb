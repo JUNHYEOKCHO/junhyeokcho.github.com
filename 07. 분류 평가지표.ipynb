{
 "cells": [
  {
   "cell_type": "markdown",
   "metadata": {},
   "source": [
    "## 타이타닉 전처리기"
   ]
  },
  {
   "cell_type": "code",
   "execution_count": 2,
   "metadata": {},
   "outputs": [],
   "source": [
    "import pandas as pd\n",
    "import numpy as np\n",
    "from sklearn.model_selection import train_test_split\n",
    "from sklearn.linear_model import LogisticRegression\n",
    "from sklearn.preprocessing import LabelEncoder\n",
    "\n",
    "train = pd.read_csv('data/titanic_train.csv')\n",
    "y = train['Survived']\n",
    "X = train.drop('Survived', axis = 1)"
   ]
  },
  {
   "cell_type": "code",
   "execution_count": 3,
   "metadata": {},
   "outputs": [],
   "source": [
    "def fillna(data):\n",
    "    data['Age'].fillna(np.mean(data['Age']), inplace=True)\n",
    "    data['Cabin'].fillna('N', inplace=True)\n",
    "    data['Embarked'].fillna('N', inplace=True)\n",
    "    data['Fare'].fillna(0, inplace=True)\n",
    "    return data\n",
    "\n",
    "\n",
    "def add_features(data):\n",
    "    def get_category(age):\n",
    "        cat = ''\n",
    "        if age <= -1: cat = 'Unknown'\n",
    "        elif age <= 5: cat = 'Baby'\n",
    "        elif age <= 12: cat = 'Child'\n",
    "        elif age <= 18: cat = 'Teenager'\n",
    "        elif age <= 25: cat = 'Student'\n",
    "        elif age <= 35: cat = 'Young Adult'\n",
    "        elif age <= 60: cat = 'Adult'\n",
    "        else: cat = 'Elderly'\n",
    "        \n",
    "        return cat\n",
    "    \n",
    "    data['Age_cat'] = data['Age'].apply(get_category)\n",
    "    \n",
    "    data['title'] = data['Name'].str.extract(' ([A-Za-z]+)\\.', expand = False)\n",
    "    \n",
    "    def get_title_cat(title):\n",
    "        title_cat = ['Mr', 'Mrs', 'Miss']\n",
    "        if title not in title_cat:\n",
    "            return 'Others'\n",
    "        else:\n",
    "            return title\n",
    "    \n",
    "    data['title'].apply(lambda x : get_title_cat(x))\n",
    "    \n",
    "    data[\"Family_size\"] = data['SibSp']+data[\"Parch\"] + 1\n",
    "    data.drop(['SibSp', 'Parch'], axis = 1, inplace=True)\n",
    "    \n",
    "    return data\n",
    "    \n",
    "def drop_features(data):\n",
    "    data.drop(['PassengerId', 'Name', 'Ticket','Age'], axis=1, inplace=True)\n",
    "    return data\n",
    "\n",
    "def format_features(data):\n",
    "    data['Cabin'] = data['Cabin'].str[:1]\n",
    "    columns = ['Sex', 'Embarked', 'title', 'Age_cat', 'Cabin']\n",
    "    \n",
    "    for feature in columns:\n",
    "        le = LabelEncoder()\n",
    "        le.fit(data[feature])\n",
    "        data[feature] = le.transform(data[feature])\n",
    "    return data\n",
    "\n",
    "def transform_features(data):\n",
    "    data = fillna(data)\n",
    "    data = add_features(data)\n",
    "    data = drop_features(data)\n",
    "    data = format_features(data)\n",
    "    \n",
    "    return data"
   ]
  },
  {
   "cell_type": "code",
   "execution_count": 4,
   "metadata": {},
   "outputs": [],
   "source": [
    "X = transform_features(X)"
   ]
  },
  {
   "cell_type": "code",
   "execution_count": 5,
   "metadata": {},
   "outputs": [
    {
     "data": {
      "text/html": [
       "<div>\n",
       "<style scoped>\n",
       "    .dataframe tbody tr th:only-of-type {\n",
       "        vertical-align: middle;\n",
       "    }\n",
       "\n",
       "    .dataframe tbody tr th {\n",
       "        vertical-align: top;\n",
       "    }\n",
       "\n",
       "    .dataframe thead th {\n",
       "        text-align: right;\n",
       "    }\n",
       "</style>\n",
       "<table border=\"1\" class=\"dataframe\">\n",
       "  <thead>\n",
       "    <tr style=\"text-align: right;\">\n",
       "      <th></th>\n",
       "      <th>Pclass</th>\n",
       "      <th>Sex</th>\n",
       "      <th>Fare</th>\n",
       "      <th>Cabin</th>\n",
       "      <th>Embarked</th>\n",
       "      <th>Age_cat</th>\n",
       "      <th>title</th>\n",
       "      <th>Family_size</th>\n",
       "    </tr>\n",
       "  </thead>\n",
       "  <tbody>\n",
       "    <tr>\n",
       "      <th>0</th>\n",
       "      <td>3</td>\n",
       "      <td>1</td>\n",
       "      <td>7.2500</td>\n",
       "      <td>7</td>\n",
       "      <td>3</td>\n",
       "      <td>4</td>\n",
       "      <td>12</td>\n",
       "      <td>2</td>\n",
       "    </tr>\n",
       "    <tr>\n",
       "      <th>1</th>\n",
       "      <td>1</td>\n",
       "      <td>0</td>\n",
       "      <td>71.2833</td>\n",
       "      <td>2</td>\n",
       "      <td>0</td>\n",
       "      <td>0</td>\n",
       "      <td>13</td>\n",
       "      <td>2</td>\n",
       "    </tr>\n",
       "    <tr>\n",
       "      <th>2</th>\n",
       "      <td>3</td>\n",
       "      <td>0</td>\n",
       "      <td>7.9250</td>\n",
       "      <td>7</td>\n",
       "      <td>3</td>\n",
       "      <td>6</td>\n",
       "      <td>9</td>\n",
       "      <td>1</td>\n",
       "    </tr>\n",
       "    <tr>\n",
       "      <th>3</th>\n",
       "      <td>1</td>\n",
       "      <td>0</td>\n",
       "      <td>53.1000</td>\n",
       "      <td>2</td>\n",
       "      <td>3</td>\n",
       "      <td>6</td>\n",
       "      <td>13</td>\n",
       "      <td>2</td>\n",
       "    </tr>\n",
       "    <tr>\n",
       "      <th>4</th>\n",
       "      <td>3</td>\n",
       "      <td>1</td>\n",
       "      <td>8.0500</td>\n",
       "      <td>7</td>\n",
       "      <td>3</td>\n",
       "      <td>6</td>\n",
       "      <td>12</td>\n",
       "      <td>1</td>\n",
       "    </tr>\n",
       "    <tr>\n",
       "      <th>...</th>\n",
       "      <td>...</td>\n",
       "      <td>...</td>\n",
       "      <td>...</td>\n",
       "      <td>...</td>\n",
       "      <td>...</td>\n",
       "      <td>...</td>\n",
       "      <td>...</td>\n",
       "      <td>...</td>\n",
       "    </tr>\n",
       "    <tr>\n",
       "      <th>886</th>\n",
       "      <td>2</td>\n",
       "      <td>1</td>\n",
       "      <td>13.0000</td>\n",
       "      <td>7</td>\n",
       "      <td>3</td>\n",
       "      <td>6</td>\n",
       "      <td>15</td>\n",
       "      <td>1</td>\n",
       "    </tr>\n",
       "    <tr>\n",
       "      <th>887</th>\n",
       "      <td>1</td>\n",
       "      <td>0</td>\n",
       "      <td>30.0000</td>\n",
       "      <td>1</td>\n",
       "      <td>3</td>\n",
       "      <td>4</td>\n",
       "      <td>9</td>\n",
       "      <td>1</td>\n",
       "    </tr>\n",
       "    <tr>\n",
       "      <th>888</th>\n",
       "      <td>3</td>\n",
       "      <td>0</td>\n",
       "      <td>23.4500</td>\n",
       "      <td>7</td>\n",
       "      <td>3</td>\n",
       "      <td>6</td>\n",
       "      <td>9</td>\n",
       "      <td>4</td>\n",
       "    </tr>\n",
       "    <tr>\n",
       "      <th>889</th>\n",
       "      <td>1</td>\n",
       "      <td>1</td>\n",
       "      <td>30.0000</td>\n",
       "      <td>2</td>\n",
       "      <td>0</td>\n",
       "      <td>6</td>\n",
       "      <td>12</td>\n",
       "      <td>1</td>\n",
       "    </tr>\n",
       "    <tr>\n",
       "      <th>890</th>\n",
       "      <td>3</td>\n",
       "      <td>1</td>\n",
       "      <td>7.7500</td>\n",
       "      <td>7</td>\n",
       "      <td>2</td>\n",
       "      <td>6</td>\n",
       "      <td>12</td>\n",
       "      <td>1</td>\n",
       "    </tr>\n",
       "  </tbody>\n",
       "</table>\n",
       "<p>891 rows × 8 columns</p>\n",
       "</div>"
      ],
      "text/plain": [
       "     Pclass  Sex     Fare  Cabin  Embarked  Age_cat  title  Family_size\n",
       "0         3    1   7.2500      7         3        4     12            2\n",
       "1         1    0  71.2833      2         0        0     13            2\n",
       "2         3    0   7.9250      7         3        6      9            1\n",
       "3         1    0  53.1000      2         3        6     13            2\n",
       "4         3    1   8.0500      7         3        6     12            1\n",
       "..      ...  ...      ...    ...       ...      ...    ...          ...\n",
       "886       2    1  13.0000      7         3        6     15            1\n",
       "887       1    0  30.0000      1         3        4      9            1\n",
       "888       3    0  23.4500      7         3        6      9            4\n",
       "889       1    1  30.0000      2         0        6     12            1\n",
       "890       3    1   7.7500      7         2        6     12            1\n",
       "\n",
       "[891 rows x 8 columns]"
      ]
     },
     "execution_count": 5,
     "metadata": {},
     "output_type": "execute_result"
    }
   ],
   "source": [
    "X"
   ]
  },
  {
   "cell_type": "code",
   "execution_count": 6,
   "metadata": {},
   "outputs": [],
   "source": [
    "X_train, X_test, y_train, y_test = train_test_split(X, y, test_size = 0.2, random_state=37)"
   ]
  },
  {
   "cell_type": "code",
   "execution_count": 7,
   "metadata": {},
   "outputs": [],
   "source": [
    "lr_clf = LogisticRegression()"
   ]
  },
  {
   "cell_type": "markdown",
   "metadata": {},
   "source": [
    "# 분류 평가 지표"
   ]
  },
  {
   "cell_type": "markdown",
   "metadata": {},
   "source": [
    "### get_clf_eval() 함수"
   ]
  },
  {
   "cell_type": "code",
   "execution_count": 8,
   "metadata": {},
   "outputs": [],
   "source": [
    "from sklearn.metrics import accuracy_score, precision_score, recall_score, confusion_matrix\n",
    "\n",
    "def get_clf_eval(y_test, pred):\n",
    "    confusion = confusion_matrix(y_test, pred)\n",
    "    accuracy = accuracy_score(y_test, pred)\n",
    "    precision = precision_score(y_test, pred)\n",
    "    recall = recall_score(y_test, pred)\n",
    "    print(\"오차행렬\")\n",
    "    print(confusion)\n",
    "    print(\"정확도: {0:.4f}, 정밀도: {1:.4f}, 재현율: {2:.4f}\".format(accuracy, precision, recall))"
   ]
  },
  {
   "cell_type": "code",
   "execution_count": 9,
   "metadata": {},
   "outputs": [
    {
     "name": "stderr",
     "output_type": "stream",
     "text": [
      "C:\\Users\\mo223\\anaconda3\\lib\\site-packages\\sklearn\\linear_model\\_logistic.py:940: ConvergenceWarning: lbfgs failed to converge (status=1):\n",
      "STOP: TOTAL NO. of ITERATIONS REACHED LIMIT.\n",
      "\n",
      "Increase the number of iterations (max_iter) or scale the data as shown in:\n",
      "    https://scikit-learn.org/stable/modules/preprocessing.html\n",
      "Please also refer to the documentation for alternative solver options:\n",
      "    https://scikit-learn.org/stable/modules/linear_model.html#logistic-regression\n",
      "  extra_warning_msg=_LOGISTIC_SOLVER_CONVERGENCE_MSG)\n"
     ]
    },
    {
     "data": {
      "text/plain": [
       "LogisticRegression(C=1.0, class_weight=None, dual=False, fit_intercept=True,\n",
       "                   intercept_scaling=1, l1_ratio=None, max_iter=100,\n",
       "                   multi_class='auto', n_jobs=None, penalty='l2',\n",
       "                   random_state=None, solver='lbfgs', tol=0.0001, verbose=0,\n",
       "                   warm_start=False)"
      ]
     },
     "execution_count": 9,
     "metadata": {},
     "output_type": "execute_result"
    }
   ],
   "source": [
    "lr_clf.fit(X_train, y_train)"
   ]
  },
  {
   "cell_type": "code",
   "execution_count": 10,
   "metadata": {},
   "outputs": [],
   "source": [
    "pred = lr_clf.predict(X_test)"
   ]
  },
  {
   "cell_type": "code",
   "execution_count": 11,
   "metadata": {},
   "outputs": [
    {
     "name": "stdout",
     "output_type": "stream",
     "text": [
      "오차행렬\n",
      "[[87 14]\n",
      " [21 57]]\n",
      "정확도: 0.8045, 정밀도: 0.8028, 재현율: 0.7308\n"
     ]
    }
   ],
   "source": [
    "get_clf_eval(y_test, pred)"
   ]
  },
  {
   "cell_type": "markdown",
   "metadata": {},
   "source": [
    "##  정밀도/재현율 트레이드오프"
   ]
  },
  {
   "cell_type": "markdown",
   "metadata": {},
   "source": [
    "### predict_proba()"
   ]
  },
  {
   "cell_type": "code",
   "execution_count": 12,
   "metadata": {},
   "outputs": [
    {
     "name": "stdout",
     "output_type": "stream",
     "text": [
      "pred_proba()결과 Shape : (179, 2)\n",
      "pred_proba array에서 앞 3개만 샘플로 추출\n",
      " [[0.89847605 0.10152395]\n",
      " [0.91214782 0.08785218]\n",
      " [0.83007685 0.16992315]]\n",
      "두 개의 class 중에서 더 큰 확률을 클래스 값으로 예측 \n",
      " [[0.89847605 0.10152395 0.        ]\n",
      " [0.91214782 0.08785218 0.        ]\n",
      " [0.83007685 0.16992315 0.        ]]\n"
     ]
    }
   ],
   "source": [
    "pred_proba = lr_clf.predict_proba(X_test)\n",
    "pred = lr_clf.predict(X_test)\n",
    "print(\"pred_proba()결과 Shape : {0}\".format(pred_proba.shape))\n",
    "print(\"pred_proba array에서 앞 3개만 샘플로 추출\\n\", pred_proba[:3])\n",
    "\n",
    "pred_proba_result = np.concatenate([pred_proba, pred.reshape(-1,1)], axis=1)\n",
    "print(\"두 개의 class 중에서 더 큰 확률을 클래스 값으로 예측 \\n\", pred_proba_result[:3])"
   ]
  },
  {
   "cell_type": "markdown",
   "metadata": {},
   "source": [
    "## Threshold의 이해\n",
    "\n",
    "### Binarizer"
   ]
  },
  {
   "cell_type": "code",
   "execution_count": 13,
   "metadata": {},
   "outputs": [
    {
     "name": "stdout",
     "output_type": "stream",
     "text": [
      "[[0. 0. 1.]\n",
      " [1. 0. 0.]\n",
      " [0. 0. 1.]]\n"
     ]
    }
   ],
   "source": [
    "from sklearn.preprocessing import Binarizer\n",
    "\n",
    "X = [[1, -1, 2],\n",
    "     [2, 0, 0],\n",
    "     [0, 1.1, 1.2]]\n",
    "\n",
    "binarizer = Binarizer(threshold=1.1)\n",
    "\n",
    "print(binarizer.fit_transform(X))"
   ]
  },
  {
   "cell_type": "code",
   "execution_count": 14,
   "metadata": {},
   "outputs": [
    {
     "name": "stdout",
     "output_type": "stream",
     "text": [
      "오차행렬\n",
      "[[87 14]\n",
      " [21 57]]\n",
      "정확도: 0.8045, 정밀도: 0.8028, 재현율: 0.7308\n"
     ]
    }
   ],
   "source": [
    "from sklearn.preprocessing import Binarizer\n",
    "\n",
    "custom_threshold = 0.5\n",
    "\n",
    "# predict_proba() 반환값의 두 번째 칼럼, 즉 Positive 클래스 칼럼 하나만 추출해 Binarizer 적용\n",
    "pred_proba_1 = pred_proba[:, 1].reshape(-1,1)\n",
    "\n",
    "binarizer = Binarizer(threshold=custom_threshold).fit(pred_proba_1)\n",
    "custome_predict = binarizer.transform(pred_proba_1)\n",
    "\n",
    "get_clf_eval(y_test, custome_predict)"
   ]
  },
  {
   "cell_type": "markdown",
   "metadata": {},
   "source": [
    "## threshold 0.4"
   ]
  },
  {
   "cell_type": "code",
   "execution_count": 15,
   "metadata": {},
   "outputs": [
    {
     "name": "stdout",
     "output_type": "stream",
     "text": [
      "오차행렬\n",
      "[[80 21]\n",
      " [18 60]]\n",
      "정확도: 0.7821, 정밀도: 0.7407, 재현율: 0.7692\n"
     ]
    }
   ],
   "source": [
    "from sklearn.preprocessing import Binarizer\n",
    "\n",
    "custom_threshold = 0.4\n",
    "\n",
    "# predict_proba() 반환값의 두 번째 칼럼, 즉 Positive 클래스 칼럼 하나만 추출해 Binarizer 적용\n",
    "pred_proba_1 = pred_proba[:, 1].reshape(-1,1)\n",
    "\n",
    "binarizer = Binarizer(threshold=custom_threshold).fit(pred_proba_1)\n",
    "custome_predict = binarizer.transform(pred_proba_1)\n",
    "\n",
    "get_clf_eval(y_test, custome_predict)"
   ]
  },
  {
   "cell_type": "markdown",
   "metadata": {},
   "source": [
    "## 최적 threshold 찾기"
   ]
  },
  {
   "cell_type": "code",
   "execution_count": 17,
   "metadata": {},
   "outputs": [
    {
     "data": {
      "text/plain": [
       "array([[0.89847605, 0.10152395],\n",
       "       [0.91214782, 0.08785218],\n",
       "       [0.83007685, 0.16992315],\n",
       "       [0.91747062, 0.08252938],\n",
       "       [0.3405065 , 0.6594935 ],\n",
       "       [0.86268162, 0.13731838],\n",
       "       [0.85963335, 0.14036665],\n",
       "       [0.83007685, 0.16992315],\n",
       "       [0.94521796, 0.05478204],\n",
       "       [0.4075266 , 0.5924734 ],\n",
       "       [0.8985031 , 0.1014969 ],\n",
       "       [0.43712216, 0.56287784],\n",
       "       [0.47372403, 0.52627597],\n",
       "       [0.15514271, 0.84485729],\n",
       "       [0.90315306, 0.09684694],\n",
       "       [0.55551356, 0.44448644],\n",
       "       [0.90758272, 0.09241728],\n",
       "       [0.46732291, 0.53267709],\n",
       "       [0.06433948, 0.93566052],\n",
       "       [0.83453189, 0.16546811],\n",
       "       [0.17985857, 0.82014143],\n",
       "       [0.25862072, 0.74137928],\n",
       "       [0.22829129, 0.77170871],\n",
       "       [0.25794242, 0.74205758],\n",
       "       [0.83332675, 0.16667325],\n",
       "       [0.04985089, 0.95014911],\n",
       "       [0.8986206 , 0.1013794 ],\n",
       "       [0.88322545, 0.11677455],\n",
       "       [0.04488643, 0.95511357],\n",
       "       [0.88322545, 0.11677455],\n",
       "       [0.89338706, 0.10661294],\n",
       "       [0.85361385, 0.14638615],\n",
       "       [0.92811719, 0.07188281],\n",
       "       [0.88304595, 0.11695405],\n",
       "       [0.66683518, 0.33316482],\n",
       "       [0.28625772, 0.71374228],\n",
       "       [0.52237209, 0.47762791],\n",
       "       [0.3364462 , 0.6635538 ],\n",
       "       [0.73571038, 0.26428962],\n",
       "       [0.90906507, 0.09093493],\n",
       "       [0.84471835, 0.15528165],\n",
       "       [0.13210176, 0.86789824],\n",
       "       [0.22534562, 0.77465438],\n",
       "       [0.9424046 , 0.0575954 ],\n",
       "       [0.30227512, 0.69772488],\n",
       "       [0.92652025, 0.07347975],\n",
       "       [0.84678829, 0.15321171],\n",
       "       [0.91387365, 0.08612635],\n",
       "       [0.88840735, 0.11159265],\n",
       "       [0.77165817, 0.22834183],\n",
       "       [0.94711356, 0.05288644],\n",
       "       [0.55136064, 0.44863936],\n",
       "       [0.11857416, 0.88142584],\n",
       "       [0.8348409 , 0.1651591 ],\n",
       "       [0.88706161, 0.11293839],\n",
       "       [0.10777345, 0.89222655],\n",
       "       [0.89844151, 0.10155849],\n",
       "       [0.9011997 , 0.0988003 ],\n",
       "       [0.81980867, 0.18019133],\n",
       "       [0.53434961, 0.46565039],\n",
       "       [0.89846951, 0.10153049],\n",
       "       [0.89985394, 0.10014606],\n",
       "       [0.90937163, 0.09062837],\n",
       "       [0.30230102, 0.69769898],\n",
       "       [0.11745826, 0.88254174],\n",
       "       [0.35258848, 0.64741152],\n",
       "       [0.06333835, 0.93666165],\n",
       "       [0.55730163, 0.44269837],\n",
       "       [0.34147991, 0.65852009],\n",
       "       [0.90154351, 0.09845649],\n",
       "       [0.90564169, 0.09435831],\n",
       "       [0.1033011 , 0.8966989 ],\n",
       "       [0.90741783, 0.09258217],\n",
       "       [0.89811619, 0.10188381],\n",
       "       [0.05913118, 0.94086882],\n",
       "       [0.36169021, 0.63830979],\n",
       "       [0.90937163, 0.09062837],\n",
       "       [0.30234203, 0.69765797],\n",
       "       [0.43394937, 0.56605063],\n",
       "       [0.52780039, 0.47219961],\n",
       "       [0.23670072, 0.76329928],\n",
       "       [0.43394937, 0.56605063],\n",
       "       [0.30227512, 0.69772488],\n",
       "       [0.43280376, 0.56719624],\n",
       "       [0.32592972, 0.67407028],\n",
       "       [0.75195489, 0.24804511],\n",
       "       [0.90151626, 0.09848374],\n",
       "       [0.27591789, 0.72408211],\n",
       "       [0.72535875, 0.27464125],\n",
       "       [0.62435397, 0.37564603],\n",
       "       [0.62099985, 0.37900015],\n",
       "       [0.89811619, 0.10188381],\n",
       "       [0.89567174, 0.10432826],\n",
       "       [0.85191462, 0.14808538],\n",
       "       [0.70618353, 0.29381647],\n",
       "       [0.51966114, 0.48033886],\n",
       "       [0.22565069, 0.77434931],\n",
       "       [0.19630752, 0.80369248],\n",
       "       [0.90155894, 0.09844106],\n",
       "       [0.26468437, 0.73531563],\n",
       "       [0.30234203, 0.69765797],\n",
       "       [0.84039122, 0.15960878],\n",
       "       [0.87715164, 0.12284836],\n",
       "       [0.55052588, 0.44947412],\n",
       "       [0.83453189, 0.16546811],\n",
       "       [0.89849845, 0.10150155],\n",
       "       [0.21868718, 0.78131282],\n",
       "       [0.89847605, 0.10152395],\n",
       "       [0.35829383, 0.64170617],\n",
       "       [0.90019363, 0.09980637],\n",
       "       [0.3096047 , 0.6903953 ],\n",
       "       [0.26957227, 0.73042773],\n",
       "       [0.4730675 , 0.5269325 ],\n",
       "       [0.11583121, 0.88416879],\n",
       "       [0.41952079, 0.58047921],\n",
       "       [0.77427405, 0.22572595],\n",
       "       [0.89847605, 0.10152395],\n",
       "       [0.52143955, 0.47856045],\n",
       "       [0.67169265, 0.32830735],\n",
       "       [0.67169265, 0.32830735],\n",
       "       [0.8985031 , 0.1014969 ],\n",
       "       [0.07889327, 0.92110673],\n",
       "       [0.8985031 , 0.1014969 ],\n",
       "       [0.84680623, 0.15319377],\n",
       "       [0.90005567, 0.09994433],\n",
       "       [0.93447499, 0.06552501],\n",
       "       [0.88322545, 0.11677455],\n",
       "       [0.90741783, 0.09258217],\n",
       "       [0.30234203, 0.69765797],\n",
       "       [0.90325731, 0.09674269],\n",
       "       [0.43367518, 0.56632482],\n",
       "       [0.89974735, 0.10025265],\n",
       "       [0.83979872, 0.16020128],\n",
       "       [0.05191112, 0.94808888],\n",
       "       [0.30235068, 0.69764932],\n",
       "       [0.09446111, 0.90553889],\n",
       "       [0.67178064, 0.32821936],\n",
       "       [0.9076239 , 0.0923761 ],\n",
       "       [0.61907484, 0.38092516],\n",
       "       [0.07054974, 0.92945026],\n",
       "       [0.07434907, 0.92565093],\n",
       "       [0.84712849, 0.15287151],\n",
       "       [0.30214138, 0.69785862],\n",
       "       [0.33637768, 0.66362232],\n",
       "       [0.84448799, 0.15551201],\n",
       "       [0.94711356, 0.05288644],\n",
       "       [0.3441145 , 0.6558855 ],\n",
       "       [0.34448867, 0.65551133],\n",
       "       [0.6357636 , 0.3642364 ],\n",
       "       [0.90125981, 0.09874019],\n",
       "       [0.9508461 , 0.0491539 ],\n",
       "       [0.46522123, 0.53477877],\n",
       "       [0.90151626, 0.09848374],\n",
       "       [0.39610753, 0.60389247],\n",
       "       [0.92336986, 0.07663014],\n",
       "       [0.0478517 , 0.9521483 ],\n",
       "       [0.83094093, 0.16905907],\n",
       "       [0.05310077, 0.94689923],\n",
       "       [0.85118403, 0.14881597],\n",
       "       [0.07845807, 0.92154193],\n",
       "       [0.90151626, 0.09848374],\n",
       "       [0.83698635, 0.16301365],\n",
       "       [0.90169052, 0.09830948],\n",
       "       [0.07358637, 0.92641363],\n",
       "       [0.32431567, 0.67568433],\n",
       "       [0.8867069 , 0.1132931 ],\n",
       "       [0.88706161, 0.11293839],\n",
       "       [0.89847605, 0.10152395],\n",
       "       [0.19322877, 0.80677123],\n",
       "       [0.34030891, 0.65969109],\n",
       "       [0.92998445, 0.07001555],\n",
       "       [0.41477727, 0.58522273],\n",
       "       [0.29488724, 0.70511276],\n",
       "       [0.90173405, 0.09826595],\n",
       "       [0.83094093, 0.16905907],\n",
       "       [0.12979815, 0.87020185],\n",
       "       [0.90942221, 0.09057779],\n",
       "       [0.51843522, 0.48156478],\n",
       "       [0.85839153, 0.14160847]])"
      ]
     },
     "execution_count": 17,
     "metadata": {},
     "output_type": "execute_result"
    }
   ],
   "source": [
    "pred_proba"
   ]
  },
  {
   "cell_type": "code",
   "execution_count": 18,
   "metadata": {},
   "outputs": [
    {
     "name": "stdout",
     "output_type": "stream",
     "text": [
      "임곗값: 0.4\n",
      "오차행렬\n",
      "[[80 21]\n",
      " [18 60]]\n",
      "정확도: 0.7821, 정밀도: 0.7407, 재현율: 0.7692\n",
      "임곗값: 0.45\n",
      "오차행렬\n",
      "[[83 18]\n",
      " [19 59]]\n",
      "정확도: 0.7933, 정밀도: 0.7662, 재현율: 0.7564\n",
      "임곗값: 0.5\n",
      "오차행렬\n",
      "[[87 14]\n",
      " [21 57]]\n",
      "정확도: 0.8045, 정밀도: 0.8028, 재현율: 0.7308\n",
      "임곗값: 0.55\n",
      "오차행렬\n",
      "[[88 13]\n",
      " [24 54]]\n",
      "정확도: 0.7933, 정밀도: 0.8060, 재현율: 0.6923\n",
      "임곗값: 0.6\n",
      "오차행렬\n",
      "[[93  8]\n",
      " [27 51]]\n",
      "정확도: 0.8045, 정밀도: 0.8644, 재현율: 0.6538\n"
     ]
    }
   ],
   "source": [
    "thresholds = np.arange(0.4, 0.65, 0.05)\n",
    "thresholds = list(thresholds)\n",
    "\n",
    "def get_eval_by_threshold(y_test, pred_proba_c1, thresholds):\n",
    "    for custom_threshold in thresholds:\n",
    "        binarizer = Binarizer(threshold=custom_threshold).fit(pred_proba_c1)\n",
    "        custom_predict = binarizer.transform(pred_proba_c1)\n",
    "        print(\"임곗값:\", custom_threshold)\n",
    "        get_clf_eval(y_test,custom_predict)\n",
    "\n",
    "get_eval_by_threshold(y_test, pred_proba[:, 1].reshape(-1, 1), thresholds)"
   ]
  },
  {
   "cell_type": "markdown",
   "metadata": {},
   "source": [
    "## precision_recall_curve()"
   ]
  },
  {
   "cell_type": "code",
   "execution_count": 90,
   "metadata": {},
   "outputs": [
    {
     "name": "stdout",
     "output_type": "stream",
     "text": [
      "반환된 분류 결정 임곗값 배열의 Shape: (139,)\n",
      "샘플 추출을 위한 임계값 배열의 index 10개: [  0  15  30  45  60  75  90 105 120 135]\n",
      "샘플용 10개의 임곗값:  [0.09 0.1  0.14 0.17 0.38 0.53 0.66 0.73 0.88 0.95]\n",
      "샘플 임계값별 정밀도:  [0.494 0.525 0.598 0.663 0.723 0.794 0.865 0.912 0.947 1.   ]\n",
      "샘플 임계값별 재현율:  [1.    0.949 0.897 0.859 0.769 0.692 0.577 0.397 0.231 0.051]\n"
     ]
    }
   ],
   "source": [
    "from sklearn.metrics import precision_recall_curve\n",
    "\n",
    "pred_proba_class1 = lr_clf.predict_proba(X_test)[:, 1]\n",
    "\n",
    "precisions, recalls, thresholds = precision_recall_curve(y_test, pred_proba_class1)\n",
    "print(\"반환된 분류 결정 임곗값 배열의 Shape:\", thresholds.shape)\n",
    "\n",
    "thr_index = np.arange(0, thresholds.shape[0], 15)\n",
    "print(\"샘플 추출을 위한 임계값 배열의 index 10개:\", thr_index)\n",
    "print(\"샘플용 10개의 임곗값: \", np.round(thresholds[thr_index], 2))\n",
    "\n",
    "print(\"샘플 임계값별 정밀도: \", np.round(precisions[thr_index], 3))\n",
    "print(\"샘플 임계값별 재현율: \", np.round(recalls[thr_index],3 ))"
   ]
  },
  {
   "cell_type": "code",
   "execution_count": 94,
   "metadata": {},
   "outputs": [
    {
     "data": {
      "image/png": "[encoded data removed]",
      "text/plain": [
       "<Figure size 576x432 with 1 Axes>"
      ]
     },
     "metadata": {
      "needs_background": "light"
     },
     "output_type": "display_data"
    }
   ],
   "source": [
    "import matplotlib.pyplot as plt\n",
    "import matplotlib.ticker as ticker\n",
    "\n",
    "%matplotlib inline\n",
    "\n",
    "def precision_recall_curve_plot(y_test, pred_proba_c1):\n",
    "    precisions, recalls, thresholds = precision_recall_curve(y_test, pred_proba_c1)\n",
    "    \n",
    "    plt.figure(figsize=(8, 6))\n",
    "    threshold_boundary = thresholds.shape[0]\n",
    "    plt.plot(thresholds, precisions[0:threshold_boundary], linestyle='--', label=\"precision\")\n",
    "    plt.plot(thresholds, recalls[0:threshold_boundary], label='recall')\n",
    "    \n",
    "    start, end = plt.xlim()\n",
    "    plt.xticks(np.round(np.arange(start, end, 0.1), 2))\n",
    "    \n",
    "    plt.xlabel(\"Threshold Value\"); plt.ylabel(\"Precision and Recall value\")\n",
    "    plt.legend(); plt.grid()\n",
    "    plt.show()\n",
    "    \n",
    "precision_recall_curve_plot(y_test, lr_clf.predict_proba(X_test)[:,1])"
   ]
  },
  {
   "cell_type": "markdown",
   "metadata": {},
   "source": [
    "# F1 스코어"
   ]
  },
  {
   "cell_type": "code",
   "execution_count": 95,
   "metadata": {},
   "outputs": [
    {
     "name": "stdout",
     "output_type": "stream",
     "text": [
      "F1 스코어: 0.7651\n"
     ]
    }
   ],
   "source": [
    "from sklearn.metrics import f1_score\n",
    "f1 = f1_score(y_test, pred)\n",
    "print(\"F1 스코어: {0:.4f}\".format(f1))"
   ]
  },
  {
   "cell_type": "code",
   "execution_count": 97,
   "metadata": {},
   "outputs": [
    {
     "name": "stdout",
     "output_type": "stream",
     "text": [
      "임곗값: 0.4\n",
      "오차행렬\n",
      "[[80 21]\n",
      " [18 60]]\n",
      "정확도: 0.7821, 정밀도: 0.7407, 재현율: 0.7692, F1: 0.7547\n",
      "임곗값: 0.45\n",
      "오차행렬\n",
      "[[83 18]\n",
      " [19 59]]\n",
      "정확도: 0.7933, 정밀도: 0.7662, 재현율: 0.7564, F1: 0.7613\n",
      "임곗값: 0.5\n",
      "오차행렬\n",
      "[[87 14]\n",
      " [21 57]]\n",
      "정확도: 0.8045, 정밀도: 0.8028, 재현율: 0.7308, F1: 0.7651\n",
      "임곗값: 0.55\n",
      "오차행렬\n",
      "[[88 13]\n",
      " [24 54]]\n",
      "정확도: 0.7933, 정밀도: 0.8060, 재현율: 0.6923, F1: 0.7448\n",
      "임곗값: 0.6\n",
      "오차행렬\n",
      "[[93  8]\n",
      " [27 51]]\n",
      "정확도: 0.8045, 정밀도: 0.8644, 재현율: 0.6538, F1: 0.7445\n"
     ]
    }
   ],
   "source": [
    "def get_clf_eval(y_test, pred):\n",
    "    confusion = confusion_matrix(y_test, pred)\n",
    "    accuracy = accuracy_score(y_test, pred)\n",
    "    precision = precision_score(y_test, pred)\n",
    "    recall = recall_score(y_test, pred)\n",
    "    # F1 스코어 추가\n",
    "    f1 = f1_score(y_test, pred)\n",
    "    print(\"오차행렬\")\n",
    "    print(confusion)\n",
    "    # f1 score print 추가\n",
    "    print(\"정확도: {0:.4f}, 정밀도: {1:.4f}, 재현율: {2:.4f}, F1: {3:.4f}\".format(accuracy, precision, recall, f1))\n",
    "    \n",
    "thresholds = [0.4, 0.45, 0.5, 0.55, 0.6]\n",
    "pred_proba = lr_clf.predict_proba(X_test)\n",
    "get_eval_by_threshold(y_test, pred_proba[:, 1].reshape(-1, 1), thresholds)"
   ]
  },
  {
   "cell_type": "markdown",
   "metadata": {},
   "source": [
    "## ROC곡선과 AUC"
   ]
  },
  {
   "cell_type": "code",
   "execution_count": 99,
   "metadata": {},
   "outputs": [
    {
     "name": "stdout",
     "output_type": "stream",
     "text": [
      "샘플 추출을 위한 임곗값 배열의 index 10개: [ 1  6 11 16 21 26 31 36 41 46 51 56 61 66 71]\n",
      "샘플용 10개의 임곗값:  [0.96 0.74 0.7  0.66 0.6  0.53 0.44 0.29 0.17 0.16 0.12 0.1  0.1  0.09\n",
      " 0.05]\n",
      "샘플 임곗값별 FPR:  [0.    0.02  0.04  0.059 0.079 0.139 0.198 0.257 0.307 0.366 0.495 0.584\n",
      " 0.663 0.812 1.   ]\n",
      "샘플 임곗값별 TPR:  [0.013 0.385 0.474 0.551 0.654 0.692 0.769 0.821 0.859 0.872 0.897 0.923\n",
      " 0.949 1.    1.   ]\n"
     ]
    }
   ],
   "source": [
    "from sklearn.metrics import roc_curve\n",
    "\n",
    "# 레이블 값이 1일 때의 예측 확률 추출\n",
    "pred_proba_class1 = lr_clf.predict_proba(X_test)[:, 1]\n",
    "\n",
    "fprs , tprs, thresholds = roc_curve(y_test, pred_proba_class1)\n",
    "\n",
    "thr_index = np.arange(1, thresholds.shape[0], 5)\n",
    "\n",
    "print(\"샘플 추출을 위한 임곗값 배열의 index 10개:\", thr_index)\n",
    "print(\"샘플용 10개의 임곗값: \", np.round(thresholds[thr_index], 2))\n",
    "\n",
    "print(\"샘플 임곗값별 FPR: \", np.round(fprs[thr_index], 3))\n",
    "print(\"샘플 임곗값별 TPR: \", np.round(tprs[thr_index], 3))"
   ]
  },
  {
   "cell_type": "code",
   "execution_count": 100,
   "metadata": {},
   "outputs": [
    {
     "data": {
      "image/png": "[encoded data removed]",
      "text/plain": [
       "<Figure size 432x288 with 1 Axes>"
      ]
     },
     "metadata": {
      "needs_background": "light"
     },
     "output_type": "display_data"
    }
   ],
   "source": [
    "def roc_curve_plot(y_test, pred_proba_c1):\n",
    "    fprs , tprs, thresholds = roc_curve(y_test, pred_proba_c1)\n",
    "    \n",
    "    plt.plot(fprs, tprs, label='ROC')\n",
    "    \n",
    "    plt.plot([0,1], [0,1], 'k--', label='Random')\n",
    "    \n",
    "    start,end = plt.xlim()\n",
    "    plt.xticks(np.round(np.arange(start, end, 0.1),2))\n",
    "    plt.xlim(0, 1); plt.ylim(0, 1)\n",
    "    plt.xlabel('FPR( 1 - Sensitivity )'); plt.ylabel(\"TPR( Recall )\")\n",
    "    plt.legend()\n",
    "\n",
    "roc_curve_plot(y_test, pred_proba[:, 1])"
   ]
  },
  {
   "cell_type": "code",
   "execution_count": 105,
   "metadata": {},
   "outputs": [
    {
     "name": "stdout",
     "output_type": "stream",
     "text": [
      "[[87 14]\n",
      " [21 57]]\n",
      "정확도: 0.8045\n",
      "정밀도: 0.8028\n",
      "재현률: 0.7308\n"
     ]
    }
   ],
   "source": [
    "from sklearn.metrics import accuracy_score, precision_score, confusion_matrix\n",
    "from sklearn.metrics import recall_score, f1_score, roc_auc_score\n",
    "import numpy as np\n",
    "\n",
    "print(confusion_matrix( y_test, pred))\n",
    "print(\"정확도:\", np.round(accuracy_score(y_test, pred), 4))\n",
    "print(\"정밀도:\", np.round(precision_score(y_test, pred), 4))\n",
    "print(\"재현률:\", np.round(recall_score(y_test, pred), 4))"
   ]
  },
  {
   "cell_type": "code",
   "execution_count": 106,
   "metadata": {},
   "outputs": [],
   "source": [
    "def get_clf_eval(y_test, pred = None, pred_proba=None):\n",
    "    confusion = confusion_matrix(y_test, pred)\n",
    "    accuracy = accuracy_score(y_test, pred)\n",
    "    precision = precision_score(y_test, pred)\n",
    "    recall = recall_score(y_test, pred)\n",
    "    f1 = f1_score(y_test, pred)\n",
    "    # ROC-AUC 추가\n",
    "    roc_auc = roc_auc_score(y_test, pred_proba)\n",
    "    print(\"오차행렬\")\n",
    "    print(confusion)\n",
    "    # ROC-AUC print 추가\n",
    "    print(\"정확도: {0:.4f}, 정밀도: {1:.4f}, 재현율: {2:.4f}, F1: {3:.4f}, AUC:{4:.4f}\".format(accuracy, precision, recall, f1, roc_auc))"
   ]
  },
  {
   "cell_type": "code",
   "execution_count": 107,
   "metadata": {},
   "outputs": [
    {
     "name": "stdout",
     "output_type": "stream",
     "text": [
      "오차행렬\n",
      "[[87 14]\n",
      " [21 57]]\n",
      "정확도: 0.8045, 정밀도: 0.8028, 재현율: 0.7308, F1: 0.7651, AUC:0.8606\n"
     ]
    }
   ],
   "source": [
    "get_clf_eval(y_test, pred , pred_proba[:, 1])"
   ]
  },
  {
   "cell_type": "code",
   "execution_count": null,
   "metadata": {},
   "outputs": [],
   "source": []
  }
 ],
 "metadata": {
  "kernelspec": {
   "display_name": "Python 3",
   "language": "python",
   "name": "python3"
  },
  "language_info": {
   "codemirror_mode": {
    "name": "ipython",
    "version": 3
   },
   "file_extension": ".py",
   "mimetype": "text/x-python",
   "name": "python",
   "nbconvert_exporter": "python",
   "pygments_lexer": "ipython3",
   "version": "3.7.6"
  }
 },
 "nbformat": 4,
 "nbformat_minor": 4
}
